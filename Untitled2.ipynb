{
 "cells": [
  {
   "cell_type": "code",
   "execution_count": 40,
   "id": "d8af0db0-9e9b-4b3c-924a-502caca1b970",
   "metadata": {},
   "outputs": [],
   "source": [
    "import os\n",
    "\n",
    "def count_words(file_path):    \n",
    "    try:\n",
    "        with open(file_path, 'r',) as file:\n",
    "            content = file.read()\n",
    "            words = content.split()\n",
    "            return len(words)\n",
    "    except UnicodeDecodeError:\n",
    "        return None\n",
    "        \n",
    "if os.path.exists(\"corp_size.txt\"):\n",
    "            os.remove(\"corp_size.txt\")       \n",
    "with open(\"corp_size.txt\", 'a', encoding='utf-8') as output_f:\n",
    "    output_f.write(f\"File\\tFrequency\\n\")\n",
    "    for root, dirs, files in os.walk(r\"C:\\Users\\조준성\\pythonclassin\\fileIO_data1\"):\n",
    "        for fn in files:\n",
    "            file_path = os.path.join(root, fn)\n",
    "            writing_content = count_words(file_path)\n",
    "            if writing_content is not None:\n",
    "                output_f.write(f\"{fn} \\t {writing_content:,}\\n\")\n",
    "\n",
    "\n",
    "with open(\"corp_size.txt\", 'r', encoding='utf-8') as total_f:\n",
    "    lines=total_f.readlines()[1:]\n",
    "    len_list=[]\n",
    "    for line in lines:\n",
    "        line=line.replace(\",\",\"\")\n",
    "        len_list.append(int(line.split()[-1]))\n",
    "total=sum(len_list)\n",
    "average=total/len(len_list)\n",
    "\n",
    "with open(\"corp_size.txt\", 'a', encoding='utf-8') as final_f:\n",
    "    final_f.write(f\"Sum\\t{total:,}\\n\")\n",
    "    final_f.write(f\"Average\\t{average:,.2f}\")"
   ]
  },
  {
   "cell_type": "code",
   "execution_count": null,
   "id": "9bb8ef48-bdae-46d8-99c2-21fe31336026",
   "metadata": {},
   "outputs": [],
   "source": []
  }
 ],
 "metadata": {
  "kernelspec": {
   "display_name": "Python 3 (ipykernel)",
   "language": "python",
   "name": "python3"
  },
  "language_info": {
   "codemirror_mode": {
    "name": "ipython",
    "version": 3
   },
   "file_extension": ".py",
   "mimetype": "text/x-python",
   "name": "python",
   "nbconvert_exporter": "python",
   "pygments_lexer": "ipython3",
   "version": "3.11.5"
  }
 },
 "nbformat": 4,
 "nbformat_minor": 5
}
